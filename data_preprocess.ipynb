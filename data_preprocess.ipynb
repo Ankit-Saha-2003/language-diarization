{
 "cells": [
  {
   "cell_type": "code",
   "execution_count": 1,
   "metadata": {},
   "outputs": [],
   "source": [
    "#################################\n",
    "#Import all the modules\n",
    "#################################\n",
    "import numpy as np\n",
    "import soundfile as sf\n",
    "import matplotlib.pyplot as plt\n",
    "import os\n",
    "from glob import glob\n",
    "import librosa\n",
    "from torch.utils.data import Dataset\n",
    "import pickle\n",
    "from tqdm import tqdm"
   ]
  },
  {
   "cell_type": "code",
   "execution_count": 2,
   "metadata": {},
   "outputs": [],
   "source": [
    "starts_with_map = {\n",
    "    # 'HIM046_0.8_cdsw_1.wav': 'Hin',\n",
    "    # 'HIM046_0.8_cdsw_2.wav': 'Eng',\n",
    "    # 'HIM046_0.8_cdsw_3.wav': 'Eng',\n",
    "    # 'HIM046_0.8_cdsw_4.wav': 'Hin',\n",
    "    # 'HIM046_0.8_cdsw_5.wav': 'Eng',\n",
    "    # 'HIM046_0.8_cdsw_6.wav': 'Hin',\n",
    "    # 'HIM046_0.8_cdsw_7.wav': 'Hin',\n",
    "    # 'HIM046_0.8_cdsw_8.wav': 'Hin',\n",
    "    # 'HIM046_0.8_cdsw_9.wav': 'Hin',\n",
    "    # 'HIM046_0.8_cdsw_10.wav': 'Hin',\n",
    "    # 'HIM046_0.8_cdsw_11.wav': 'Hin',\n",
    "    # 'HIM046_0.8_cdsw_12.wav': 'Hin',\n",
    "    # 'HIM046_0.8_cdsw_13.wav': 'Hin',\n",
    "    # 'HIM046_0.8_cdsw_14.wav': 'Hin',\n",
    "    # 'HIM046_0.8_cdsw_15.wav': 'Hin',\n",
    "    # 'HIM046_0.8_cdsw_16.wav': 'Hin',\n",
    "    # 'HIM046_0.8_cdsw_17.wav': 'Hin',\n",
    "    # 'HIM046_0.8_cdsw_18.wav': 'Hin',\n",
    "    # 'HIM046_0.8_cdsw_19.wav': 'Hin',\n",
    "    # 'HIM046_0.8_cdsw_20.wav': 'Hin',\n",
    "    # 'HIM046_0.8_cdsw_21.wav': 'Hin',\n",
    "    # 'HIM046_0.8_cdsw_22.wav': 'Eng',\n",
    "    # 'HIM046_0.8_cdsw_23.wav': 'Hin',\n",
    "    # 'HIM046_0.8_cdsw_24.wav': 'Hin',\n",
    "    # 'HIM046_0.8_cdsw_25.wav': 'Hin',\n",
    "    # 'HIM046_0.8_cdsw_26.wav': 'Hin',\n",
    "    # 'HIM046_0.8_cdsw_27.wav': 'Hin',\n",
    "    # 'HIM046_0.8_cdsw_28.wav': 'Hin',\n",
    "    # 'HIM046_0.8_cdsw_29.wav': 'Hin',\n",
    "    # 'HIM046_0.8_cdsw_30.wav': 'Hin',\n",
    "    # 'HIM046_0.8_cdsw_31.wav': 'Hin',\n",
    "    # 'HIM046_0.8_cdsw_32.wav': 'Hin',\n",
    "    # 'HIM046_0.8_cdsw_33.wav': 'Hin',\n",
    "    # 'HIM046_0.8_cdsw_34.wav': 'Hin',\n",
    "    # 'HIM046_0.8_cdsw_35.wav': 'Hin',\n",
    "    # 'HIM046_0.8_cdsw_36.wav': 'Hin',\n",
    "    # 'HIM046_0.8_cdsw_37.wav': 'Hin',\n",
    "    # 'HIM046_0.8_cdsw_38.wav': 'Hin',\n",
    "    # 'HIM046_0.8_cdsw_39.wav': 'Hin',\n",
    "    # 'HIM046_0.8_cdsw_40.wav': 'Hin',\n",
    "    # 'HIM046_0.8_cdsw_41.wav': 'Hin',\n",
    "    # 'HIM046_0.8_cdsw_42.wav': 'Hin',\n",
    "    # 'HIM046_0.8_cdsw_43.wav': 'Hin',\n",
    "    # 'HIM046_0.8_cdsw_44.wav': 'Hin',\n",
    "    # 'HIM046_0.8_cdsw_45.wav': 'Hin',\n",
    "    # 'HIM046_0.8_cdsw_46.wav': 'Hin',\n",
    "    # 'HIM046_0.8_cdsw_47.wav': 'Hin',\n",
    "    \n",
    "    # 'HIM046_1_cdsw_1.wav': 'Hin',\n",
    "    # 'HIM046_1_cdsw_2.wav': 'Hin',\n",
    "    # 'HIM046_1_cdsw_3.wav': 'Eng',\n",
    "    # 'HIM046_1_cdsw_4.wav': 'Eng',\n",
    "    # 'HIM046_1_cdsw_5.wav': 'Eng',\n",
    "    # 'HIM046_1_cdsw_6.wav': 'Hin',\n",
    "    # 'HIM046_1_cdsw_7.wav': 'Hin',\n",
    "    # 'HIM046_1_cdsw_8.wav': 'Eng',\n",
    "    # 'HIM046_1_cdsw_9.wav': 'Hin',\n",
    "    # 'HIM046_1_cdsw_10.wav': 'Eng',\n",
    "    # 'HIM046_1_cdsw_11.wav': 'Hin',\n",
    "    # 'HIM046_1_cdsw_12.wav': 'Eng',\n",
    "    # 'HIM046_1_cdsw_13.wav': 'Hin',\n",
    "    # 'HIM046_1_cdsw_14.wav': 'Hin',\n",
    "    # 'HIM046_1_cdsw_15.wav': 'Eng',\n",
    "    # 'HIM046_1_cdsw_16.wav': 'Hin',\n",
    "    # 'HIM046_1_cdsw_17.wav': 'Hin',\n",
    "    # 'HIM046_1_cdsw_18.wav': 'Eng',\n",
    "    # 'HIM046_1_cdsw_19.wav': 'Hin',\n",
    "    # 'HIM046_1_cdsw_20.wav': 'Eng',\n",
    "    # 'HIM046_1_cdsw_21.wav': 'Hin',\n",
    "    # 'HIM046_1_cdsw_22.wav': 'Eng',\n",
    "    # 'HIM046_1_cdsw_23.wav': 'Hin',\n",
    "    # 'HIM046_1_cdsw_24.wav': 'Hin',\n",
    "    # 'HIM046_1_cdsw_25.wav': 'Eng',\n",
    "    # 'HIM046_1_cdsw_26.wav': 'Hin',\n",
    "    # 'HIM046_1_cdsw_27.wav': 'Hin',\n",
    "    # 'HIM046_1_cdsw_28.wav': 'Eng',\n",
    "    # 'HIM046_1_cdsw_29.wav': 'Hin',\n",
    "    # 'HIM046_1_cdsw_30.wav': 'Eng',\n",
    "    # 'HIM046_1_cdsw_31.wav': 'Hin',\n",
    "    # 'HIM046_1_cdsw_32.wav': 'Eng',\n",
    "    # 'HIM046_1_cdsw_33.wav': 'Hin',\n",
    "    # 'HIM046_1_cdsw_34.wav': 'Eng',\n",
    "    \n",
    "    \n",
    "    'HIM046_2_cdsw_1.wav': 'Hin',\n",
    "    'HIM046_2_cdsw_2.wav': 'Eng',\n",
    "    'HIM046_2_cdsw_3.wav': 'Hin',\n",
    "    'HIM046_2_cdsw_4.wav': 'Hin',\n",
    "    'HIM046_2_cdsw_5.wav': 'Eng',\n",
    "    'HIM046_2_cdsw_6.wav': 'Eng',\n",
    "    'HIM046_2_cdsw_7.wav': 'Eng',\n",
    "    'HIM046_2_cdsw_8.wav': 'Hin',\n",
    "    'HIM046_2_cdsw_9.wav': 'Hin',\n",
    "    'HIM046_2_cdsw_10.wav': 'Hin',\n",
    "    'HIM046_2_cdsw_11.wav': 'Hin',\n",
    "    'HIM046_2_cdsw_12.wav': 'Eng',\n",
    "    'HIM046_2_cdsw_13.wav': 'Hin',\n",
    "    'HIM046_2_cdsw_14.wav': 'Hin',\n",
    "    'HIM046_2_cdsw_15.wav': 'Eng',\n",
    "    'HIM046_2_cdsw_16.wav': 'Eng',\n",
    "    'HIM046_2_cdsw_17.wav': 'Eng',\n",
    "    'HIM046_2_cdsw_18.wav': 'Hin',\n",
    "    'HIM046_2_cdsw_19.wav': 'Hin',\n",
    "    'HIM046_2_cdsw_20.wav': 'Eng',\n",
    "    'HIM046_2_cdsw_21.wav': 'Eng',\n",
    "    'HIM046_2_cdsw_22.wav': 'Eng',\n",
    "    'HIM046_2_cdsw_23.wav': 'Hin',\n",
    "    'HIM046_2_cdsw_24.wav': 'Hin',\n",
    "    'HIM046_2_cdsw_25.wav': 'Eng',\n",
    "    'HIM046_2_cdsw_26.wav': 'Eng',\n",
    "    'HIM046_2_cdsw_27.wav': 'Eng',\n",
    "    'HIM046_2_cdsw_28.wav': 'Hin',\n",
    "    \n",
    "    'HIM046_5_cdsw_1.wav': 'Eng',\n",
    "    'HIM046_5_cdsw_2.wav': 'Eng',\n",
    "    'HIM046_5_cdsw_3.wav': 'Hin',\n",
    "    'HIM046_5_cdsw_4.wav': 'Eng',\n",
    "    'HIM046_5_cdsw_5.wav': 'Eng',\n",
    "    'HIM046_5_cdsw_6.wav': 'Hin',\n",
    "    'HIM046_5_cdsw_7.wav': 'Hin',\n",
    "    'HIM046_5_cdsw_8.wav': 'Hin',\n",
    "    'HIM046_5_cdsw_9.wav': 'Eng',\n",
    "    'HIM046_5_cdsw_10.wav': 'Eng',\n",
    "    'HIM046_5_cdsw_11.wav': 'Hin',\n",
    "    'HIM046_5_cdsw_12.wav': 'Eng',\n",
    "    'HIM046_5_cdsw_13.wav': 'Hin',\n",
    "    'HIM046_5_cdsw_14.wav': 'Hin',\n",
    "    'HIM046_5_cdsw_15.wav': 'Eng',\n",
    "    \n",
    "    \n",
    "    'HIM046_7_cdsw_1.wav': 'Hin',\n",
    "    'HIM046_7_cdsw_2.wav': 'Eng',\n",
    "    'HIM046_7_cdsw_3.wav': 'Eng',\n",
    "    'HIM046_7_cdsw_4.wav': 'Hin',\n",
    "    'HIM046_7_cdsw_5.wav': 'Hin',\n",
    "    'HIM046_7_cdsw_6.wav': 'Hin',\n",
    "    'HIM046_7_cdsw_7.wav': 'Hin',\n",
    "    'HIM046_7_cdsw_8.wav': 'Eng',\n",
    "    'HIM046_7_cdsw_9.wav': 'Eng',\n",
    "    'HIM046_7_cdsw_10.wav': 'Hin',\n",
    "    'HIM046_7_cdsw_11.wav': 'Eng',\n",
    "    'HIM046_7_cdsw_12.wav': 'Eng',\n",
    "    \n",
    "    \n",
    "    \n",
    "}"
   ]
  },
  {
   "cell_type": "code",
   "execution_count": 3,
   "metadata": {},
   "outputs": [],
   "source": [
    "def process_file(path, starts_with = 'Hin'):\n",
    "    \n",
    "    \"\"\"\n",
    "    Returns Frames, labels corresponding to each frame\n",
    "\n",
    "    Returns:\n",
    "        _Frames_ : Signal split into frames\n",
    "        \n",
    "        _labels_ : 0 if frame is in Hindi, 1 if frame is in English\n",
    "    \"\"\"\n",
    "    assert starts_with in ['Hin', 'Eng']\n",
    "    \n",
    "    _, duration, filename = path.split('/')\n",
    "    duration = float(duration)\n",
    "    \n",
    "    sig, rate = sf.read(path)\n",
    "\n",
    "    Frames = librosa.util.frame(sig, frame_length=int(rate*0.025), hop_length=int(rate*0.01)).T\n",
    "    labels = []\n",
    "    \n",
    "    for index, frame in enumerate(Frames):\n",
    "        \n",
    "        start = index * int(rate*0.01) \n",
    "        \n",
    "        for i in range(100):\n",
    "            \n",
    "            if i * duration <= float(start / rate) < (i+1) * duration:\n",
    "                \n",
    "                if i%2 == 0:\n",
    "                    \n",
    "                    labels.append(0) \n",
    "                else:\n",
    "                    \n",
    "                    labels.append(1)\n",
    "            \n",
    "                break\n",
    "            \n",
    "    labels = np.array(labels)  \n",
    "      \n",
    "    if starts_with == 'Eng':\n",
    "        labels = 1 -labels  \n",
    "              \n",
    "    return Frames, labels"
   ]
  },
  {
   "cell_type": "code",
   "execution_count": 15,
   "metadata": {},
   "outputs": [],
   "source": [
    "def read_dir(data_dir = 'wav_file_syn_cd_sw_awgn'):\n",
    "    \n",
    "    data = np.array([0]*400)\n",
    "    labels = np.array([0])\n",
    "    for dirpath, dirnames, filenames in os.walk(data_dir):\n",
    "        \n",
    "        for file in filenames:\n",
    "            \n",
    "            if file[:3] == 'HIM':\n",
    "                \n",
    "                p = dirpath.replace('\\\\', '/') + '/'+ file\n",
    "                \n",
    "                if file in starts_with_map.keys():\n",
    "                        \n",
    "                    d, l = process_file(p, starts_with_map[file])\n",
    "                    print(file)\n",
    "                    data = np.vstack((data, d))\n",
    "                    labels = np.concatenate((labels, l))\n",
    "    \n",
    "    \n",
    "    return data[1:, :], labels[1:]         \n",
    "        "
   ]
  },
  {
   "cell_type": "code",
   "execution_count": 20,
   "metadata": {},
   "outputs": [],
   "source": [
    "import pickle\n",
    "\n",
    "with open('ld_dataset.pkl', 'wb') as f:\n",
    "    pickle.dump(Data, f)"
   ]
  },
  {
   "cell_type": "code",
   "execution_count": 5,
   "metadata": {},
   "outputs": [],
   "source": [
    "import torch\n",
    "import torch.nn as nn\n",
    "import torch.nn.functional as F\n",
    "from torch.utils.data import Dataset, DataLoader, random_split\n",
    "import torchaudio"
   ]
  },
  {
   "cell_type": "code",
   "execution_count": 36,
   "metadata": {},
   "outputs": [],
   "source": [
    "class LDNet(nn.Module):\n",
    "    \n",
    "    def __init__(self, rate, n_mels):\n",
    "        super(LDNet, self).__init__()\n",
    "        \n",
    "        self.rate = rate\n",
    "        self.n_mels = n_mels\n",
    "        \n",
    "        self.mel_layer = nn.Sequential(\n",
    "            torchaudio.transforms.MelSpectrogram(sample_rate=rate, n_fft=512, win_length=400, hop_length=401, window_fn=torch.hamming_window, n_mels=self.n_mels),\n",
    "            nn.BatchNorm1d(self.n_mels, momentum=0.1, affine=True)\n",
    "        )\n",
    "        self.linear_layer = nn.Sequential(\n",
    "            nn.Linear(self.n_mels, 256),\n",
    "            nn.ReLU(),\n",
    "            nn.Linear(256, 512),\n",
    "            nn.ReLU(),\n",
    "            nn.Linear(512, 512),\n",
    "            nn.ReLU(),\n",
    "            nn.Linear(512, 1),\n",
    "            nn.Sigmoid()\n",
    "        )\n",
    "        \n",
    "    def forward(self, x):\n",
    "        x = self.mel_layer(x).squeeze()\n",
    "        x = self.linear_layer(x).squeeze()\n",
    "        return x\n"
   ]
  },
  {
   "cell_type": "code",
   "execution_count": 37,
   "metadata": {},
   "outputs": [
    {
     "data": {
      "text/plain": [
       "tensor([0.5012, 0.4969, 0.4977, 0.4975, 0.4928, 0.4987, 0.4930, 0.4979, 0.4979,\n",
       "        0.4959, 0.5022, 0.5015, 0.4989, 0.5015, 0.4781, 0.5000],\n",
       "       grad_fn=<SqueezeBackward0>)"
      ]
     },
     "execution_count": 37,
     "metadata": {},
     "output_type": "execute_result"
    }
   ],
   "source": [
    "mel_layer = torch.nn.Sequential(\n",
    "            torchaudio.transforms.MelSpectrogram(sample_rate=16000, n_fft=512, win_length=400, hop_length=401, window_fn=torch.hamming_window, n_mels=40),\n",
    "            nn.BatchNorm1d(40, momentum=0.1, affine=True)\n",
    ")\n",
    "sig = torch.FloatTensor(np.random.randn(16, 400))\n",
    "model = LDNet(16000, 40)\n",
    "model(sig)"
   ]
  },
  {
   "cell_type": "code",
   "execution_count": 80,
   "metadata": {},
   "outputs": [],
   "source": [
    "NUM_EPOCHS = 500\n",
    "LEARNING_RATE = 1e-4\n",
    "BATCH_SIZE = 32\n",
    "TRAIN_SPLIT = 0.7\n",
    "N_MELS = 64"
   ]
  },
  {
   "cell_type": "code",
   "execution_count": 81,
   "metadata": {},
   "outputs": [
    {
     "data": {
      "text/plain": [
       "((134224, 400), (134224,), (93956,), (40268,))"
      ]
     },
     "execution_count": 81,
     "metadata": {},
     "output_type": "execute_result"
    }
   ],
   "source": [
    "data = np.load('data.npy')\n",
    "labels = np.load('labels.npy')\n",
    "train_indices = np.load('train_indices.npy')\n",
    "test_indices = np.load('test_indices.npy')\n",
    "data.shape, labels.shape, train_indices.shape, test_indices.shape"
   ]
  },
  {
   "cell_type": "code",
   "execution_count": 82,
   "metadata": {},
   "outputs": [],
   "source": [
    "class LD_Dataset(Dataset):\n",
    "\n",
    "  def __init__(self, data, labels):\n",
    "    self.data = data\n",
    "    self.labels = labels\n",
    "\n",
    "  def __len__(self):\n",
    "    return len(self.data)\n",
    "\n",
    "  def __getitem__(self, idx):\n",
    "    return torch.tensor(self.data[idx], dtype=torch.float32), torch.tensor(self.labels[idx], dtype=torch.float32)\n",
    "  \n",
    "# dataset =  LD_Dataset(data, labels)\n",
    "# train_dataset, test_dataset = random_split(dataset, [TRAIN_SPLIT, 1 - TRAIN_SPLIT])\n",
    "    \n",
    "train_dataset = LD_Dataset(data[train_indices], labels[train_indices])\n",
    "test_dataset = LD_Dataset(data[test_indices], labels[test_indices])\n",
    "\n",
    "train_loader = DataLoader(train_dataset, batch_size=BATCH_SIZE, shuffle=True)\n",
    "test_loader = DataLoader(test_dataset, batch_size=BATCH_SIZE, shuffle=False)"
   ]
  },
  {
   "cell_type": "code",
   "execution_count": 83,
   "metadata": {},
   "outputs": [
    {
     "name": "stdout",
     "output_type": "stream",
     "text": [
      "cuda\n"
     ]
    },
    {
     "name": "stderr",
     "output_type": "stream",
     "text": [
      "Epoch Loss: 0.554: 100%|██████████| 500/500 [5:15:31<00:00, 37.86s/it]     \n"
     ]
    }
   ],
   "source": [
    "device = 'cuda' if torch.cuda.is_available() else 'cpu'\n",
    "print(device)\n",
    "model = LDNet(16000, N_MELS).to(device)\n",
    "model.train()\n",
    "criterion = nn.BCELoss()\n",
    "optimizer = torch.optim.AdamW(model.parameters(), lr=LEARNING_RATE)\n",
    "epoch_losses = []\n",
    "\n",
    "for epoch in (pbar := tqdm(range(NUM_EPOCHS))):\n",
    "    \n",
    "    epoch_loss = 0.0\n",
    "    for frame, label in train_loader:\n",
    "\n",
    "        frame = frame.to(device)\n",
    "        label = label.to(device)\n",
    "        output = model(frame)\n",
    "        \n",
    "        optimizer.zero_grad()\n",
    "        loss = criterion(output, label)\n",
    "        loss.backward()\n",
    "        optimizer.step()\n",
    "        \n",
    "        epoch_loss += loss.item()\n",
    "    epoch_losses.append(epoch_loss / len(train_loader))\n",
    "    pbar.set_description(f'Epoch Loss: {epoch_losses[-1]:.3f}')"
   ]
  },
  {
   "cell_type": "code",
   "execution_count": 86,
   "metadata": {},
   "outputs": [
    {
     "data": {
      "image/png": "[encoded data removed]",
      "text/plain": [
       "<Figure size 640x480 with 1 Axes>"
      ]
     },
     "metadata": {},
     "output_type": "display_data"
    }
   ],
   "source": [
    "plt.plot(epoch_losses)\n",
    "plt.xlabel('Epoch')\n",
    "plt.ylabel('Loss')\n",
    "plt.title('Training Loss')\n",
    "plt.grid()\n",
    "plt.savefig(f'plots/ld_model_big_{NUM_EPOCHS}_{LEARNING_RATE}_{BATCH_SIZE}_{N_MELS}.png')\n",
    "plt.show()"
   ]
  },
  {
   "cell_type": "code",
   "execution_count": 87,
   "metadata": {},
   "outputs": [
    {
     "data": {
      "text/plain": [
       "0.7437038184443194"
      ]
     },
     "execution_count": 87,
     "metadata": {},
     "output_type": "execute_result"
    }
   ],
   "source": [
    "model.eval()\n",
    "preds, trues = [], []\n",
    "\n",
    "eval_loss = 0.0\n",
    "for frame, label in test_loader:\n",
    "    frame = frame.to(device)\n",
    "    label = label.to(device)\n",
    "    output = model(frame)\n",
    "\n",
    "    preds.extend(list(output.cpu().detach().numpy()))\n",
    "    trues.extend(list(label.cpu().detach().numpy()))\n",
    "\n",
    "    loss = criterion(output, label)\n",
    "    eval_loss += loss.item()\n",
    "eval_loss / len(test_loader)"
   ]
  },
  {
   "cell_type": "code",
   "execution_count": 88,
   "metadata": {},
   "outputs": [
    {
     "name": "stdout",
     "output_type": "stream",
     "text": [
      "0.5599235124664746\n"
     ]
    },
    {
     "data": {
      "image/png": "[encoded data removed]",
      "text/plain": [
       "<Figure size 640x480 with 1 Axes>"
      ]
     },
     "metadata": {},
     "output_type": "display_data"
    }
   ],
   "source": [
    "from sklearn.metrics import roc_curve, accuracy_score\n",
    "\n",
    "print(accuracy_score(trues, np.array(preds) > 0.5))\n",
    "fpr, tpr, thresholds = roc_curve(trues, preds)\n",
    "plt.plot(fpr, tpr)\n",
    "plt.plot(np.linspace(0, 1, len(fpr)), np.linspace(0, 1, len(fpr)), linestyle='--')\n",
    "plt.xlabel('False Positive Rate')\n",
    "plt.ylabel('True Positive Rate')\n",
    "plt.title('ROC Curve')\n",
    "plt.grid()\n",
    "plt.show()"
   ]
  },
  {
   "cell_type": "code",
   "execution_count": 45,
   "metadata": {},
   "outputs": [
    {
     "data": {
      "text/plain": [
       "(0.4138290479499653, 0.4864327)"
      ]
     },
     "execution_count": 45,
     "metadata": {},
     "output_type": "execute_result"
    }
   ],
   "source": [
    "eer = fpr[np.nanargmin(np.abs(fpr - (1 - tpr)))]\n",
    "threshold = thresholds[np.nanargmin(np.abs(fpr - (1 - tpr)))]\n",
    "eer, threshold"
   ]
  },
  {
   "cell_type": "code",
   "execution_count": 74,
   "metadata": {},
   "outputs": [],
   "source": [
    "torch.save(model, f'chks/ld_model_big_{NUM_EPOCHS}_{LEARNING_RATE}_{BATCH_SIZE}_{N_MELS}.pt')"
   ]
  }
 ],
 "metadata": {
  "kernelspec": {
   "display_name": "Python 3",
   "language": "python",
   "name": "python3"
  },
  "language_info": {
   "codemirror_mode": {
    "name": "ipython",
    "version": 3
   },
   "file_extension": ".py",
   "mimetype": "text/x-python",
   "name": "python",
   "nbconvert_exporter": "python",
   "pygments_lexer": "ipython3",
   "version": "3.10.11"
  }
 },
 "nbformat": 4,
 "nbformat_minor": 2
}
